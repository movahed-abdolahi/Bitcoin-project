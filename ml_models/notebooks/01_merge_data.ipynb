{
 "cells": [
  {
   "cell_type": "code",
   "execution_count": null,
   "id": "59c1eafb",
   "metadata": {},
   "outputs": [],
   "source": [
    "# Merging btc historical + sentiments + derivatives to create a complete dataset\n",
    "import pandas as pd\n",
    "\n",
    "\n",
    "df_btc = pd.read_csv('../output/btc_D.csv', parse_dates=['Datetime_UTC'])\n",
    "# strip tz & zero out time\n",
    "df_btc['date'] = (\n",
    "    df_btc['Datetime_UTC']\n",
    "      .dt.tz_localize(None)\n",
    "      .dt.normalize()\n",
    ")\n",
    "\n",
    "# Sentiment Data\n",
    "df_sen = pd.read_csv('../output/news_fag_final.csv')\n",
    "df_sen['date'] = pd.to_datetime(df_sen['date']).dt.normalize()\n",
    "\n",
    "# Derivatives Data\n",
    "df_der = pd.read_csv('../output/bitcoin_derivatives_historical.csv')\n",
    "df_der['date'] = df_der['timestamp']\n",
    "df_der['date'] = pd.to_datetime(df_der['date']).dt.normalize()\n",
    "\n",
    "# Merge\n",
    "df_merged = (\n",
    "    df_btc\n",
    "      .merge(df_sen, on='date', how='outer')\n",
    "      .merge(df_der, on='date', how='outer')\n",
    ")\n",
    "\n",
    "df_merged.to_csv('../output/btc_final.csv', index=False)\n"
   ]
  },
  {
   "cell_type": "code",
   "execution_count": null,
   "id": "1e6e2c5e",
   "metadata": {},
   "outputs": [],
   "source": [
    "df_merged.tail()"
   ]
  }
 ],
 "metadata": {
  "kernelspec": {
   "display_name": ".venv",
   "language": "python",
   "name": "python3"
  },
  "language_info": {
   "codemirror_mode": {
    "name": "ipython",
    "version": 3
   },
   "file_extension": ".py",
   "mimetype": "text/x-python",
   "name": "python",
   "nbconvert_exporter": "python",
   "pygments_lexer": "ipython3",
   "version": "3.13.3"
  }
 },
 "nbformat": 4,
 "nbformat_minor": 5
}
