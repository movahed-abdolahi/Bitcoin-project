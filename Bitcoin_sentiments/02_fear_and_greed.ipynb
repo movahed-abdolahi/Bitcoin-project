{
 "cells": [
  {
   "cell_type": "code",
   "execution_count": null,
   "id": "dd0f7214",
   "metadata": {},
   "outputs": [],
   "source": [
    "# Fetching fear and greed index from alternative.me API\n",
    "import requests\n",
    "\n",
    "url = 'https://api.alternative.me/fng/?limit=0&format=json'\n",
    "resp = requests.get(url)\n",
    "resp.raise_for_status()\n",
    "fng_data = resp.json()['data']\n",
    "\n",
    "# Building a dataframe\n",
    "fng = pd.DataFrame(fng_data)\n",
    "# Turning timestamp to date\n",
    "fng['timestamp'] = pd.to_datetime(fng['timestamp'].astype(int), unit='s').dt.date\n",
    "# Turning value to int\n",
    "fng['value'] = fng['value'].astype(int)\n",
    "\n",
    "# Changing column names\n",
    "fng = fng.rename(columns={\n",
    "    'timestamp': 'date',\n",
    "    'value': 'fear_greed_index',\n",
    "    'value_classification': 'fear_greed_label'\n",
    "})\n",
    "\n",
    "# Dropping unnecassary column\n",
    "fng = fng.drop(columns=['time_until_update'])\n",
    "\n",
    "# Sorting based on date\n",
    "fng = fng.sort_values(by='date').reset_index(drop=True)\n",
    "\n",
    "fng.to_csv('outputs/fear_greed_index.csv', index=False)\n"
   ]
  },
  {
   "cell_type": "code",
   "execution_count": null,
   "id": "6fcb9a98",
   "metadata": {},
   "outputs": [],
   "source": [
    "# Since there are multiple news per day, grouping data per day\n",
    "df = pd.read_csv('outputs/binance_news_with_finbert.csv')\n",
    "df['date'] = pd.to_datetime(df['date'], format='mixed')\n",
    "df.set_index('date', inplace=True)\n",
    "\n",
    "# Adding sentiment flags\n",
    "df['positive'] = (df['finbert_sentiment'] == 'positive').astype(int)\n",
    "df['negative'] = (df['finbert_sentiment'] == 'negative').astype(int)\n",
    "df['neutral']  = (df['finbert_sentiment'] == 'neutral').astype(int)\n",
    "\n",
    "# Aggregating per day\n",
    "df_news_daily = df.groupby('date').agg({\n",
    "    'positive': 'sum',\n",
    "    'neutral': 'sum',\n",
    "    'negative': 'sum',\n",
    "    'headline': 'count',\n",
    "    'finbert_sentiment': lambda x: x.value_counts().idxmax(),\n",
    "    'finbert_score': 'mean'\n",
    "}).rename(columns={\n",
    "    'finbert_score': 'avg_sentiment',\n",
    "    'headline': 'news_count'\n",
    "}).reset_index()\n",
    "\n",
    "df_news_daily.to_csv('outputs/binance_finbert_sentiments_daily.csv')"
   ]
  },
  {
   "cell_type": "code",
   "execution_count": null,
   "id": "4e6b3efb",
   "metadata": {},
   "outputs": [],
   "source": [
    "# Combining fear and greed with news sentiments \n",
    "\n",
    "df_news = pd.read_csv('outputs/binance_finbert_sentiments_daily.csv')\n",
    "df_fng = pd.read_csv('outputs/fear_greed_index.csv')\n",
    "\n",
    "df_merged = df_news.merge(df_fng, how='outer')\n",
    "df_merged.drop(columns='Unnamed: 0', inplace=True)\n",
    "\n",
    "df_merged.to_csv('outputs/news_fag_final.csv')"
   ]
  }
 ],
 "metadata": {
  "language_info": {
   "name": "python"
  }
 },
 "nbformat": 4,
 "nbformat_minor": 5
}
